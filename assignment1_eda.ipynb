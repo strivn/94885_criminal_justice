{
 "cells": [
  {
   "cell_type": "code",
   "execution_count": null,
   "id": "e797bcc2-8ea9-42a8-8946-cf9c77aed97a",
   "metadata": {},
   "outputs": [],
   "source": [
    "import pandas as pd\n",
    "import numpy as np\n",
    "import matplotlib.pyplot as plt\n",
    "import seaborn as sns"
   ]
  },
  {
   "cell_type": "code",
   "execution_count": null,
   "id": "9d7e1feb-fa23-4c8a-a166-3385d8ed3256",
   "metadata": {},
   "outputs": [],
   "source": [
    "sns.set_theme()\n",
    "sns.set_palette(sns.color_palette(\"pastel\"))\n",
    "%matplotlib inline"
   ]
  },
  {
   "cell_type": "markdown",
   "id": "7e1ab203-4f79-4d85-a0de-ca8da0731df7",
   "metadata": {},
   "source": [
    "### Import data"
   ]
  },
  {
   "cell_type": "code",
   "execution_count": null,
   "id": "50836da3-1765-4b90-bd91-646177cdadad",
   "metadata": {},
   "outputs": [],
   "source": [
    "df_c1 = pd.read_csv('C1. copiah_county_synthetic_data.csv')\n",
    "df_c2 = pd.read_csv('C2. claiborne_county_synthetic_data.csv')\n",
    "df_c3 = pd.read_csv('C3. warren_county_synthetic_data.csv')"
   ]
  },
  {
   "cell_type": "code",
   "execution_count": null,
   "id": "031edfde-2c5b-439f-9d9a-5ce38790807f",
   "metadata": {},
   "outputs": [],
   "source": [
    "df_c1.columns == df_c2.columns"
   ]
  },
  {
   "cell_type": "code",
   "execution_count": null,
   "id": "a588b765-f167-47ee-9538-ad3d3c99c4e4",
   "metadata": {},
   "outputs": [],
   "source": [
    "df_c1.columns == df_c3.columns"
   ]
  },
  {
   "cell_type": "code",
   "execution_count": null,
   "id": "7b7d5976-142a-46b1-9832-2e3d3a4e7411",
   "metadata": {},
   "outputs": [],
   "source": [
    "df_c1.head()"
   ]
  },
  {
   "cell_type": "code",
   "execution_count": null,
   "id": "81442661-c210-4d2d-b3e4-57aa057d33b8",
   "metadata": {},
   "outputs": [],
   "source": [
    "df_c2.head()"
   ]
  },
  {
   "cell_type": "code",
   "execution_count": null,
   "id": "13dcedb1-5a02-43c4-9e72-c85213d523f4",
   "metadata": {},
   "outputs": [],
   "source": [
    "df_c1.describe()"
   ]
  },
  {
   "cell_type": "code",
   "execution_count": null,
   "id": "bade852f-c25b-4be5-9367-5f4e66454564",
   "metadata": {},
   "outputs": [],
   "source": [
    "df_c2.describe()"
   ]
  },
  {
   "cell_type": "code",
   "execution_count": null,
   "id": "1ceb5e8f-e2ef-4607-afcf-088b09812983",
   "metadata": {},
   "outputs": [],
   "source": [
    "df_c3.describe()"
   ]
  },
  {
   "cell_type": "markdown",
   "id": "ad76a467-f0c9-46f0-9ee7-86987661cbc5",
   "metadata": {},
   "source": [
    "### Preprocessing"
   ]
  },
  {
   "cell_type": "code",
   "execution_count": null,
   "id": "1e3d5466-d304-4a82-8db7-a2fa7f9512e3",
   "metadata": {},
   "outputs": [],
   "source": [
    "df = pd.concat([df_c1, df_c2, df_c3])"
   ]
  },
  {
   "cell_type": "code",
   "execution_count": null,
   "id": "6b0f5ccc-5c59-4900-a9cd-daa33d983843",
   "metadata": {},
   "outputs": [],
   "source": [
    "df.shape"
   ]
  },
  {
   "cell_type": "code",
   "execution_count": null,
   "id": "bf2862c5-91de-4e9e-ba82-e55c55b69eed",
   "metadata": {},
   "outputs": [],
   "source": [
    "df['Age'].describe()"
   ]
  },
  {
   "cell_type": "code",
   "execution_count": null,
   "id": "55d0a85a-0f29-4abc-9a1f-486447581a77",
   "metadata": {},
   "outputs": [],
   "source": [
    "# Apply to dataframe\n",
    "def age_bins(x):\n",
    "    if x <= 25:\n",
    "        return \"18-25\"\n",
    "    elif x <= 35:\n",
    "        return \"26-35\"\n",
    "    elif x <= 45:\n",
    "        return \"36-45\"\n",
    "    elif x <= 55:\n",
    "        return \"46-55\"\n",
    "    elif x <= 65:\n",
    "        return \"56-65\"\n",
    "    else:\n",
    "        return \"66+\"\n",
    "\n",
    "    \n",
    "df['Age_Group'] = df['Age'].apply(age_bins)"
   ]
  },
  {
   "cell_type": "code",
   "execution_count": null,
   "id": "2a0945c0-2003-4797-be2c-641b2645630a",
   "metadata": {},
   "outputs": [],
   "source": [
    "df[['Race', 'Risk Score']].groupby('Race').count()"
   ]
  },
  {
   "cell_type": "code",
   "execution_count": null,
   "id": "1cbaa20c-a4f4-496c-9a4d-1eafa4fd5971",
   "metadata": {},
   "outputs": [],
   "source": [
    "df[['Gender', 'Risk Score']].groupby('Gender').count()"
   ]
  },
  {
   "cell_type": "code",
   "execution_count": null,
   "id": "2334311e-474d-4c4d-9778-2c57d8e68765",
   "metadata": {},
   "outputs": [],
   "source": [
    "df[['Education Level', 'Risk Score']].groupby('Education Level').count()"
   ]
  },
  {
   "cell_type": "markdown",
   "id": "11c6b60f-3e0e-4ee8-a4be-621b52602d02",
   "metadata": {},
   "source": [
    "---\n",
    "### 1. Analyze the demographic profiles of three counties:\n",
    "\n",
    "1. Evaluate and visualize the demographic characteristics (race, gender, and education) in each county using pivot tables (Excel) or Pandas (Python).\n",
    "2. Deliverable: A summary of demographic data visualized through pie or bar charts and a comparison of racial and gender distributions across counties."
   ]
  },
  {
   "cell_type": "code",
   "execution_count": null,
   "id": "674ff23b-72fe-4203-b0ce-c80bbe9e0386",
   "metadata": {
    "scrolled": true
   },
   "outputs": [],
   "source": [
    "sns.displot(df, x='Race', col='County', height=3, hue='Race', alpha=0.8)\n",
    "plt.plot()"
   ]
  },
  {
   "cell_type": "code",
   "execution_count": null,
   "id": "f3a4273b-582b-497d-a985-028ad5b0f1c4",
   "metadata": {
    "scrolled": true
   },
   "outputs": [],
   "source": [
    "sns.displot(df, x='Gender', col='County', height=3, hue='Gender', alpha=0.8)\n",
    "plt.plot()"
   ]
  },
  {
   "cell_type": "code",
   "execution_count": null,
   "id": "9e42b9a1-6f3c-47dc-ad60-8673e8a41322",
   "metadata": {
    "scrolled": true
   },
   "outputs": [],
   "source": [
    "col_order = ['Less than High School', 'High School', 'Some College', \"Bachelor's Degree\", \"Master's Degree\", 'PhD']\n",
    "df['Education Level'] = pd.Categorical(df['Education Level'], col_order)\n",
    "\n",
    "sns.displot(df, x='Education Level', col='County', height=3, hue='Education Level', alpha=0.8, hue_order=col_order, row_order=col_order).set_xticklabels(\"\")\n",
    "plt.plot()"
   ]
  },
  {
   "cell_type": "markdown",
   "id": "37fcfe5f-58d8-44f4-96f3-8d2d40243109",
   "metadata": {},
   "source": [
    "---\n",
    "### 2. Evaluate risk scores across demographic groups:\n",
    "\n",
    "1. Analyze the distribution of risk scores by race and gender within each county.\n",
    "2. Deliverable: A summary table showing average risk scores for each demographic group, with accompanying visualizations (e.g., bar charts).\n",
    "3. Provide an analysis of how risk scores vary across counties and demographic groups."
   ]
  },
  {
   "cell_type": "code",
   "execution_count": null,
   "id": "c84eb4f3-1f37-4e2f-aa6b-9225a803abbe",
   "metadata": {},
   "outputs": [],
   "source": [
    "df[['Race', 'Risk Score']].groupby('Race').describe()"
   ]
  },
  {
   "cell_type": "code",
   "execution_count": null,
   "id": "0327dc1d-94e7-4d0d-996d-2fb358f6628c",
   "metadata": {},
   "outputs": [],
   "source": [
    "df[['Gender', 'Risk Score']].groupby('Gender').describe()"
   ]
  },
  {
   "cell_type": "code",
   "execution_count": null,
   "id": "50330731-0e55-4a62-a972-27801c62532a",
   "metadata": {},
   "outputs": [],
   "source": [
    "sns.boxplot(df, y='Race', x='Risk Score', hue='Race')"
   ]
  },
  {
   "cell_type": "code",
   "execution_count": null,
   "id": "f9fe4588-f778-4236-910f-1f81f242fd53",
   "metadata": {},
   "outputs": [],
   "source": [
    "# Create FacetGrid\n",
    "g = sns.FacetGrid(df, col='County', height=4, aspect=1.5)\n",
    "\n",
    "# Map boxplot to the grid\n",
    "g.map_dataframe(\n",
    "    sns.boxplot,\n",
    "    x='Risk Score',\n",
    "    y='Race'\n",
    ")\n",
    "\n",
    "# Adjust the layout\n",
    "plt.tight_layout()\n",
    "\n",
    "# Show the plot\n",
    "plt.show()"
   ]
  },
  {
   "cell_type": "code",
   "execution_count": null,
   "id": "b6b68794-1e24-485c-9e37-b6ad5a265d09",
   "metadata": {},
   "outputs": [],
   "source": [
    "sns.boxplot(df, y='Gender', x='Risk Score', hue='Gender')"
   ]
  },
  {
   "cell_type": "code",
   "execution_count": null,
   "id": "120c5e83-4aa7-43c3-aa17-eb712b8878c4",
   "metadata": {},
   "outputs": [],
   "source": [
    "# Create FacetGrid\n",
    "g = sns.FacetGrid(df, col='County', height=4, aspect=1.5)\n",
    "\n",
    "# Map boxplot to the grid\n",
    "g.map_dataframe(\n",
    "    sns.boxplot,\n",
    "    x='Risk Score',\n",
    "    y='Gender'\n",
    ")\n",
    "\n",
    "# Adjust the layout\n",
    "plt.tight_layout()\n",
    "\n",
    "# Show the plot\n",
    "plt.show()"
   ]
  },
  {
   "cell_type": "code",
   "execution_count": null,
   "id": "d59535d2-55bb-4fc4-bdb2-01b3f2c5c58f",
   "metadata": {},
   "outputs": [],
   "source": [
    "# Create FacetGrid\n",
    "g = sns.FacetGrid(df, col='County', height=3, aspect=1.5)\n",
    "\n",
    "# Map boxplot to the grid\n",
    "g.map_dataframe(\n",
    "    sns.histplot,\n",
    "    x='Risk Score',\n",
    "    bins=np.arange(0.5, 11.5, 1),\n",
    "    alpha=0.8,\n",
    "    kde=True,\n",
    "    kde_kws={\n",
    "        'bw_adjust': 1.5,\n",
    "        'cut': 0,\n",
    "    }\n",
    ")\n",
    "\n",
    "# Adjust the layout\n",
    "plt.tight_layout()\n",
    "plt.xticks(range(11))\n",
    "\n",
    "# Show the plot\n",
    "plt.show()"
   ]
  },
  {
   "cell_type": "code",
   "execution_count": null,
   "id": "68dfa1ae-1d17-41b4-9885-3756a3a3c024",
   "metadata": {},
   "outputs": [],
   "source": [
    "race_risk_hist = sns.histplot(\n",
    "    data=df,\n",
    "    x='Risk Score',\n",
    "    hue='Race',\n",
    "    multiple=\"dodge\",\n",
    "    # stat='count',\n",
    "    element='bars',\n",
    "    alpha=0.8,\n",
    "    edgecolor='white',\n",
    "    linewidth=1,\n",
    "    bins=np.arange(0.5, 11.5, 1),\n",
    "    kde=True,\n",
    "    kde_kws={\n",
    "        'bw_adjust': 1.5,\n",
    "        'cut': 0,\n",
    "    }\n",
    ")\n",
    "\n",
    "race_risk_hist.set_xticks([i for i in range(0,11)])\n",
    "plt.tight_layout()\n",
    "plt.show()"
   ]
  },
  {
   "cell_type": "markdown",
   "id": "3c61fb59-1f82-43ea-9671-98d7ed5068d6",
   "metadata": {},
   "source": [
    "---\n",
    "### 3. Compare judge decisions to AI risk scores:\n",
    "\n",
    "1. Investigate the alignment between judges’ bail decisions and AI-generated risk scores across racial and gender groups.\n",
    "2. Deliverable: Cross-tabulate risk scores and judge decisions using stacked bar charts to evaluate consistency. Discuss patterns of bias in decision-making, highlighting any discrepancies between groups."
   ]
  },
  {
   "cell_type": "code",
   "execution_count": null,
   "id": "c9473dc1-43d9-4d67-886b-0177c3636b56",
   "metadata": {},
   "outputs": [],
   "source": [
    "# overview \n",
    "pd.crosstab([df['Race'], df['Judge Decision']], df['Risk Score'])"
   ]
  },
  {
   "cell_type": "code",
   "execution_count": null,
   "id": "57b3b385-1294-4b64-ad4c-99f21d0fc996",
   "metadata": {},
   "outputs": [],
   "source": [
    "# overview \n",
    "pd.crosstab([df['Gender'], df['Judge Decision']], df['Risk Score'])"
   ]
  },
  {
   "cell_type": "code",
   "execution_count": null,
   "id": "5acc1994-c68c-4e9b-8e8c-d9fb53198021",
   "metadata": {},
   "outputs": [],
   "source": [
    "race_pivot = pd.crosstab([df['County'], df['Race'], df['Judge Decision']], df['Risk Score'], margins=False)\n",
    "race_pivot"
   ]
  },
  {
   "cell_type": "code",
   "execution_count": null,
   "id": "514ba8ab-cc72-4f07-8762-f462707ff43b",
   "metadata": {},
   "outputs": [],
   "source": [
    "gender_pivot = pd.crosstab([df['County'], df['Gender'], df['Judge Decision']], df['Risk Score'], margins=False)\n",
    "gender_pivot"
   ]
  },
  {
   "cell_type": "code",
   "execution_count": null,
   "id": "0e77595e-a166-4794-98fb-05d58f43c6ab",
   "metadata": {},
   "outputs": [],
   "source": [
    "# Set up the figure with 3 subplots\n",
    "fig, axes = plt.subplots(3, 1, figsize=(12, 15))\n",
    "\n",
    "# Color scheme\n",
    "cmap = 'YlOrRd'  # or 'RdYlBu_r' for a diverging colormap\n",
    "\n",
    "# Process each county\n",
    "for idx, (county, county_data) in enumerate(race_pivot.groupby(level=0)):\n",
    "    # Create matrix for this county\n",
    "    county_matrix = county_data.reset_index()\n",
    "    county_matrix['Group'] = county_matrix['Race'] + '\\n(' + county_matrix['Judge Decision'] + ')'\n",
    "    heatmap_matrix = county_matrix.set_index('Group').iloc[:, 3:]\n",
    "    \n",
    "    # Create heatmap\n",
    "    sns.heatmap(heatmap_matrix,\n",
    "                cmap=cmap,\n",
    "                annot=True,\n",
    "                fmt='g',\n",
    "                cbar_kws={'label': 'Count'},\n",
    "                ax=axes[idx],\n",
    "                square=False,\n",
    "                robust=True,\n",
    "                annot_kws={'size': 9},\n",
    "                linewidths=0.5,\n",
    "                linecolor='white')\n",
    "    \n",
    "    # Add horizontal lines between racial groups\n",
    "    race_sizes = county_matrix.groupby('Race').size()\n",
    "    current_pos = 0\n",
    "    for size in race_sizes:\n",
    "        axes[idx].axhline(y=current_pos + size, color='black', linewidth=2)\n",
    "        current_pos += size\n",
    "    \n",
    "    # Customize subplot\n",
    "    axes[idx].set_title(f'{county}', pad=10, fontsize=12)\n",
    "    axes[idx].set_xlabel('Risk Score')\n",
    "    axes[idx].set_ylabel('')\n",
    "    \n",
    "    # Rotate labels for better readability\n",
    "    axes[idx].set_xticklabels(axes[idx].get_xticklabels(), rotation=0)\n",
    "    axes[idx].set_yticklabels(axes[idx].get_yticklabels(), rotation=0)\n",
    "\n",
    "# Adjust layout\n",
    "plt.tight_layout()\n",
    "plt.show()"
   ]
  },
  {
   "cell_type": "code",
   "execution_count": null,
   "id": "e842905d-76b7-4931-8074-c22a099e4bc7",
   "metadata": {},
   "outputs": [],
   "source": [
    "race_pivot = pd.crosstab([df['County'], df['Race']], df['Judge Decision'], margins=True)\n",
    "race_pivot['% Denied'] = round(race_pivot['Denied'] / race_pivot['All'] * 100, 1)\n",
    "race_pivot['% Granted'] = round(race_pivot['Granted'] / race_pivot['All'] * 100, 1)\n",
    "race_pivot"
   ]
  },
  {
   "cell_type": "code",
   "execution_count": null,
   "id": "5de5e4c9-7905-43cb-9e8d-d4776246e7f8",
   "metadata": {
    "scrolled": true
   },
   "outputs": [],
   "source": [
    "gender_pivot = pd.crosstab([df['County'], df['Gender']], df['Judge Decision'], margins=True)\n",
    "gender_pivot['% Denied'] = round(gender_pivot['Denied'] / gender_pivot['All'] * 100, 1)\n",
    "gender_pivot['% Granted'] = round(gender_pivot['Granted'] / gender_pivot['All'] * 100, 1)\n",
    "gender_pivot"
   ]
  },
  {
   "cell_type": "code",
   "execution_count": null,
   "id": "6b4abd03-3456-4c02-854b-0bf0c2e27bf4",
   "metadata": {},
   "outputs": [],
   "source": [
    "fig, axes = plt.subplots(3, 1, figsize=(12, 10))\n",
    "\n",
    "for i, col in enumerate(df['Race'].unique()):\n",
    "    race_data = df[df['Race'] == col]\n",
    "    ct = pd.crosstab(race_data['Risk Score'], \n",
    "                     race_data['Judge Decision'],\n",
    "                     normalize='index') * 100\n",
    "\n",
    "        # Reindex to ensure all risk scores are present\n",
    "    ct = ct.reindex(range(1, 11))  # This will add missing risk scores with NaN values\n",
    "    ct = ct.fillna(0)  # Fill NaN with 0\n",
    "    \n",
    "    # Plot directly to the specific axis\n",
    "    ct.plot(kind='bar', \n",
    "           stacked=True, \n",
    "           ax=axes[i],\n",
    "           title=f'Judge Decisions by Risk Score - {col}')\n",
    "    \n",
    "    # Customize each subplot\n",
    "    axes[i].set_xlabel('Risk Score')\n",
    "    axes[i].set_ylabel('Percentage of Decisions')\n",
    "    axes[i].legend(title='Decision', bbox_to_anchor=(1.05, 1))\n",
    "\n",
    "# Add ONLY ONE tight_layout at the end\n",
    "plt.tight_layout()\n",
    "# Add ONLY ONE show at the end\n",
    "plt.show()"
   ]
  },
  {
   "cell_type": "code",
   "execution_count": null,
   "id": "deb71f52-2e3a-4256-bf52-5435575dc845",
   "metadata": {
    "scrolled": true
   },
   "outputs": [],
   "source": [
    "fig, axes = plt.subplots(2, 1, figsize=(8, 10))\n",
    "\n",
    "for i, col in enumerate(df['Gender'].unique()):\n",
    "    race_data = df[df['Gender'] == col]\n",
    "    ct = pd.crosstab(race_data['Risk Score'], \n",
    "                     race_data['Judge Decision'],\n",
    "                     normalize='index') * 100\n",
    "    \n",
    "    # Plot directly to the specific axis\n",
    "    ct.plot(kind='bar', \n",
    "           stacked=True, \n",
    "           ax=axes[i],\n",
    "           title=f'Judge Decisions by Risk Score - {col}')\n",
    "    \n",
    "    # Customize each subplot\n",
    "    axes[i].set_xlabel('Risk Score')\n",
    "    axes[i].set_ylabel('Percentage of Decisions')\n",
    "    axes[i].legend(title='Decision', bbox_to_anchor=(1.05, 1))\n",
    "\n",
    "# Add ONLY ONE tight_layout at the end\n",
    "plt.tight_layout()\n",
    "# Add ONLY ONE show at the end\n",
    "plt.show()"
   ]
  },
  {
   "cell_type": "code",
   "execution_count": null,
   "id": "80a52cf5-94fc-44fc-a406-243be372d43d",
   "metadata": {},
   "outputs": [],
   "source": [
    "sns.boxplot(data=df, x='Race', y='Risk Score', hue='Judge Decision')\n",
    "plt.title('Risk Score Distribution by Race and Decision')\n",
    "plt.xlabel('Race')\n",
    "plt.ylabel('Risk Score')\n",
    "plt.plot()"
   ]
  },
  {
   "cell_type": "code",
   "execution_count": null,
   "id": "7173ccde-afb5-4766-89bb-6565404fd8ad",
   "metadata": {},
   "outputs": [],
   "source": [
    "sns.boxplot(data=df, x='Gender', y='Risk Score', hue='Judge Decision')\n",
    "plt.title('Risk Score Distribution by Gender and Decision')\n",
    "plt.xlabel('Gender')\n",
    "plt.ylabel('Risk Score')\n",
    "plt.plot()"
   ]
  },
  {
   "cell_type": "markdown",
   "id": "c5c7ee3a-ec69-45c0-ba9b-4ee2b5fe2435",
   "metadata": {},
   "source": [
    "### "
   ]
  },
  {
   "cell_type": "markdown",
   "id": "6eb61671-a5da-41e9-9002-e2d91f06e161",
   "metadata": {},
   "source": [
    "---\n",
    "### Additional analysis, \n",
    "Testing re-offense against risk score and judge bail decisions per race and gender. "
   ]
  },
  {
   "cell_type": "code",
   "execution_count": null,
   "id": "217f2ae9-70f1-4a02-bd63-ad0e7cc9a0aa",
   "metadata": {},
   "outputs": [],
   "source": [
    "gender_pivot_reoffense = pd.crosstab([df['County'], df['Gender']], df['Re-offense'], margins=True)\n",
    "gender_pivot_reoffense['% No'] = round(gender_pivot_reoffense['No'] / gender_pivot_reoffense['All'] * 100, 1)\n",
    "gender_pivot_reoffense['% Yes'] = round(gender_pivot_reoffense['Yes'] / gender_pivot_reoffense['All'] * 100, 1)\n",
    "gender_pivot_reoffense"
   ]
  },
  {
   "cell_type": "code",
   "execution_count": null,
   "id": "21823410-044b-4be8-9006-083550b18f80",
   "metadata": {},
   "outputs": [],
   "source": [
    "race_pivot_reoffense = pd.crosstab([df['County'], df['Race']], df['Re-offense'], margins=True)\n",
    "race_pivot_reoffense['% No'] = round(race_pivot_reoffense['No'] / race_pivot_reoffense['All'] * 100, 1)\n",
    "race_pivot_reoffense['% Yes'] = round(race_pivot_reoffense['Yes'] / race_pivot_reoffense['All'] * 100, 1)\n",
    "race_pivot_reoffense"
   ]
  },
  {
   "cell_type": "code",
   "execution_count": null,
   "id": "f619ee1a-9179-49ec-99ef-3edc19ed29f3",
   "metadata": {},
   "outputs": [],
   "source": [
    "race_pivot_score_reoffense = pd.crosstab([df['Race'], df['Risk Score']], df['Re-offense'], margins=True)\n",
    "race_pivot_score_reoffense['% No'] = round(race_pivot_score_reoffense['No'] / race_pivot_score_reoffense['All'] * 100, 1)\n",
    "race_pivot_score_reoffense['% Yes'] = round(race_pivot_score_reoffense['Yes'] / race_pivot_score_reoffense['All'] * 100, 1)\n",
    "race_pivot_score_reoffense"
   ]
  },
  {
   "cell_type": "code",
   "execution_count": null,
   "id": "5e600c92-d445-4213-abe9-3c243ccccbeb",
   "metadata": {},
   "outputs": [],
   "source": [
    "gender_pivot_score_reoffense = pd.crosstab([df['Gender'], df['Risk Score']], df['Re-offense'], margins=True)\n",
    "gender_pivot_score_reoffense['% No'] = round(gender_pivot_score_reoffense['No'] / gender_pivot_score_reoffense['All'] * 100, 1)\n",
    "gender_pivot_score_reoffense['% Yes'] = round(gender_pivot_score_reoffense['Yes'] / gender_pivot_score_reoffense['All'] * 100, 1)\n",
    "gender_pivot_score_reoffense"
   ]
  },
  {
   "cell_type": "code",
   "execution_count": null,
   "id": "946680d5-dcba-4557-a8c7-9371c9a8d16c",
   "metadata": {},
   "outputs": [],
   "source": [
    "race_pivot_judge_reoffense = pd.crosstab([df['Race'], df['Judge Decision']], df['Re-offense'], margins=True)\n",
    "race_pivot_judge_reoffense['% No'] = round(race_pivot_judge_reoffense['No'] / race_pivot_judge_reoffense['All'] * 100, 1)\n",
    "race_pivot_judge_reoffense['% Yes'] = round(race_pivot_judge_reoffense['Yes'] / race_pivot_judge_reoffense['All'] * 100, 1)\n",
    "race_pivot_judge_reoffense"
   ]
  },
  {
   "cell_type": "code",
   "execution_count": null,
   "id": "28f70654-dcc8-4b76-9ab0-b26c3cb8d6a7",
   "metadata": {},
   "outputs": [],
   "source": [
    "gender_pivot_judge_reoffense = pd.crosstab([df['Gender'], df['Judge Decision']], df['Re-offense'], margins=True)\n",
    "gender_pivot_judge_reoffense['% No'] = round(gender_pivot_judge_reoffense['No'] / gender_pivot_judge_reoffense['All'] * 100, 1)\n",
    "gender_pivot_judge_reoffense['% Yes'] = round(gender_pivot_judge_reoffense['Yes'] / gender_pivot_judge_reoffense['All'] * 100, 1)\n",
    "gender_pivot_judge_reoffense"
   ]
  },
  {
   "cell_type": "code",
   "execution_count": null,
   "id": "3f37b4aa-a81e-48df-9bd2-dee3cad1a9c5",
   "metadata": {},
   "outputs": [],
   "source": [
    "sns.boxplot(data=df, x='Gender', y='Risk Score', hue='Re-offense')\n",
    "plt.title('Risk Score Distribution by Gender and Re-Offense')\n",
    "plt.xlabel('Gender')\n",
    "plt.ylabel('Risk Score')\n",
    "plt.plot()"
   ]
  },
  {
   "cell_type": "code",
   "execution_count": null,
   "id": "ad484d6e-d0f3-4943-a3a5-6a45c8030efc",
   "metadata": {},
   "outputs": [],
   "source": [
    "sns.boxplot(data=df, x='Race', y='Risk Score', hue='Re-offense')\n",
    "plt.title('Risk Score Distribution by Race and Re-Offense')\n",
    "plt.xlabel('Race')\n",
    "plt.ylabel('Risk Score')\n",
    "plt.plot()"
   ]
  },
  {
   "cell_type": "markdown",
   "id": "89af6eb4-2ea6-4d08-9303-f0beffae2a89",
   "metadata": {},
   "source": [
    "---\n",
    "### 4A. Analyze re-offense rates and fairness metrics:\n",
    "1. Calculate re-offense rates and key fairness metrics, including False Positive Rates (FPR) and False Negative Rates (FNR), for each racial group.\n",
    "2. Deliverable: Bar charts comparing FPR and FNR across racial groups, accompanied by an interpretation of any disparities found."
   ]
  },
  {
   "cell_type": "code",
   "execution_count": null,
   "id": "21f58f12-e02d-4f9f-9eef-7861890fa84d",
   "metadata": {},
   "outputs": [],
   "source": [
    "from sklearn.metrics import confusion_matrix"
   ]
  },
  {
   "cell_type": "code",
   "execution_count": null,
   "id": "0d162c1f-aaac-4839-ad7b-3d9d5a6b161d",
   "metadata": {},
   "outputs": [],
   "source": [
    "df[['Race', 'Judge Decision', 'Re-offense']].to_clipboard()"
   ]
  },
  {
   "cell_type": "code",
   "execution_count": null,
   "id": "57adf935-dc38-43d3-b63a-27d7f04f074d",
   "metadata": {},
   "outputs": [],
   "source": [
    "# assume denied bail / re-offense = 0\n",
    "# assume granted bail / no re-offense = 1\n",
    "# assume re-offense is the ground truth\n",
    "\n",
    "y_pred = df['Judge Decision'].apply(lambda x: 1 if x==\"Granted\" else 0) # because denied should 'predicts' re-offense\n",
    "\n",
    "y = df['Re-offense'].apply(lambda x: 0 if x==\"Yes\" else 1)\n"
   ]
  },
  {
   "cell_type": "code",
   "execution_count": null,
   "id": "c078c424-a1b6-403f-9bf4-ab4536f54207",
   "metadata": {},
   "outputs": [],
   "source": [
    "results_dict_4a = {}\n",
    "\n",
    "for col in df['Race'].unique():\n",
    "    results_dict_4a[col] = {}\n",
    "\n",
    "    tn, fp, fn, tp = confusion_matrix(y[df['Race'] == col], y_pred[df['Race'] == col]).ravel()\n",
    "\n",
    "    # Sensitivity, hit rate, recall, or true positive rate\n",
    "    tpr = tp/(tp+fn)\n",
    "    # Specificity or true negative rate\n",
    "    tnr = tn/(tn+fp)\n",
    "    # Precision or positive predictive value\n",
    "    ppv = tp/(tp+fp)\n",
    "    # Negative predictive value\n",
    "    npv = tn/(tn+fn)\n",
    "    # Fall out or false positive rate\n",
    "    fpr = fp/(fp+tn)\n",
    "    # False negative rate\n",
    "    fnr = fn/(tp+fn)\n",
    "    # False discovery rate\n",
    "    fdr = fp/(tp+fp)\n",
    "    # Overall accuracy\n",
    "    acc = (tp+tn)/(tp+fp+fn+tn)\n",
    "\n",
    "    results_dict_4a[col]['FPR'] = round(fpr, 3)\n",
    "    results_dict_4a[col]['FNR'] = round(fnr, 3)\n",
    "    results_dict_4a[col]['PPV'] = round(ppv, 3) # precision\n",
    "    results_dict_4a[col]['TPR'] = round(tpr, 3) # recall \n",
    "    results_dict_4a[col]['Acc'] = round(acc, 3) # accuracy\n",
    "    results_dict_4a[col]['Negative Rate'] = round((tn+fn) / (tp+fp+fn+tn), 3)\n",
    "    results_dict_4a[col]['Positive Rate'] = round((tp+fp) / (tp+fp+fn+tn), 3)\n",
    "    results_dict_4a[col]['Group Population'] = (tp+fp+fn+tn)\n",
    "    results_dict_4a[col]['Group TN'] = tn\n",
    "    results_dict_4a[col]['Group TP'] = tp\n",
    "    results_dict_4a[col]['Group FN'] = fn\n",
    "    results_dict_4a[col]['Group FP'] = fp\n"
   ]
  },
  {
   "cell_type": "code",
   "execution_count": null,
   "id": "6057401d-4d7e-4b96-888b-639d02c4550f",
   "metadata": {},
   "outputs": [],
   "source": [
    "metrics_df_4a = pd.DataFrame(results_dict_4a)\n",
    "metrics_df_4a"
   ]
  },
  {
   "cell_type": "code",
   "execution_count": null,
   "id": "05a49f4b-10a2-4c49-be5f-9fe1e5d6094d",
   "metadata": {},
   "outputs": [],
   "source": [
    "# calculate disparities\n",
    "# white\n",
    "\n",
    "disparity_white = pd.DataFrame({\n",
    "    'White': [1.0, 1.0, 1.0, 1.0, 1.0, 1.0],  # White/White = 1.0\n",
    "    'Black': round(metrics_df_4a['Black'] / metrics_df_4a['White'], 3),\n",
    "    'Other': round(metrics_df_4a['Other'] / metrics_df_4a['White'], 3)\n",
    "}, index=['FPR', 'FNR', 'PPV', 'TPR', 'Positive Rate', 'Negative Rate'])\n",
    "\n",
    "disparity_white"
   ]
  },
  {
   "cell_type": "code",
   "execution_count": null,
   "id": "b39e05c3-56e6-4cf2-abb4-7ef81dbf9964",
   "metadata": {},
   "outputs": [],
   "source": [
    "# calculate disparities\n",
    "# black\n",
    "\n",
    "disparity_black = pd.DataFrame({\n",
    "    'White': round(metrics_df_4a['White'] / metrics_df_4a['Black'],3),\n",
    "    'Black': [1.0, 1.0, 1.0, 1.0, 1.0, 1.0],\n",
    "    'Other': round(metrics_df_4a['Other'] / metrics_df_4a['Black'],3)\n",
    "}, index=['FPR', 'FNR', 'PPV', 'TPR', 'Positive Rate', 'Negative Rate'])\n",
    "\n",
    "disparity_black"
   ]
  },
  {
   "cell_type": "code",
   "execution_count": null,
   "id": "24357d49-a717-42a7-bf98-810e18ccae54",
   "metadata": {},
   "outputs": [],
   "source": [
    "# calculate disparities\n",
    "# others\n",
    "\n",
    "disparity_other = pd.DataFrame({\n",
    "    'White': round(metrics_df_4a['White'] / metrics_df_4a['Other'], 3),\n",
    "    'Black': round(metrics_df_4a['Black'] / metrics_df_4a['Other'], 3),\n",
    "    'Other': [1.0, 1.0, 1.0, 1.0, 1.0, 1.0]\n",
    "}, index=['FPR', 'FNR', 'PPV', 'TPR', 'Positive Rate', 'Negative Rate'])\n",
    "\n",
    "disparity_other"
   ]
  },
  {
   "cell_type": "code",
   "execution_count": null,
   "id": "86976a6a-d117-4071-aecf-e0c59638127e",
   "metadata": {},
   "outputs": [],
   "source": [
    "metrics_df_4a.T[['FPR', 'FNR']].plot(kind='bar')"
   ]
  },
  {
   "cell_type": "code",
   "execution_count": null,
   "id": "86e3b77e-fdf1-4a2f-ac04-d09f069a991d",
   "metadata": {},
   "outputs": [],
   "source": [
    "metrics_df_4a.T.reset_index()"
   ]
  },
  {
   "cell_type": "markdown",
   "id": "8758ce71-f311-44e4-ba2a-4a7d66150a9f",
   "metadata": {},
   "source": [
    "---\n",
    "### 4B. Analyze re-offense rates and fairness metrics:\n",
    "1. Calculate re-offense rates and key fairness metrics, including False Positive Rates (FPR) and False Negative Rates (FNR), for each racial group.\n",
    "2. Deliverable: Bar charts comparing FPR and FNR across racial groups, accompanied by an interpretation of any disparities found."
   ]
  },
  {
   "cell_type": "code",
   "execution_count": null,
   "id": "76be5de9-dae8-418e-8250-4a7800abc64d",
   "metadata": {},
   "outputs": [],
   "source": [
    "from sklearn.metrics import confusion_matrix"
   ]
  },
  {
   "cell_type": "code",
   "execution_count": null,
   "id": "7eb9f3f2-d247-4581-b165-a928a663f533",
   "metadata": {},
   "outputs": [],
   "source": [
    "# assume re-offense = 0\n",
    "# assume no re-offense = 1\n",
    "# assume re-offense / not is the ground truth (y)\n",
    "\n",
    "# assume risk score <= risk_threshold as 1 (positive outcome)\n",
    "# assume risk score > risk_threshold as 0 (negative outcome)\n",
    "\n",
    "risk_threshold = 5 # can be changed to check different metrices\n",
    "y_pred_4b = df['Risk Score'].apply(lambda x: 1 if x<=risk_threshold else 0)\n",
    "\n",
    "y_4b = df['Re-offense'].apply(lambda x: 0 if x==\"Yes\" else 1)\n"
   ]
  },
  {
   "cell_type": "code",
   "execution_count": null,
   "id": "62b93c6c-92c2-46a8-97e0-3dd2c33700cb",
   "metadata": {},
   "outputs": [],
   "source": [
    "results_dict_4b = {}\n",
    "\n",
    "for col in df['Race'].unique():\n",
    "    results_dict_4b[col] = {}\n",
    "\n",
    "    tn, fp, fn, tp = confusion_matrix(y_4b[df['Race'] == col], y_pred_4b[df['Race'] == col]).ravel()\n",
    "\n",
    "    # Sensitivity, hit rate, recall, or true positive rate\n",
    "    tpr = tp/(tp+fn)\n",
    "    # Specificity or true negative rate\n",
    "    tnr = tn/(tn+fp)\n",
    "    # Precision or positive predictive value\n",
    "    ppv = tp/(tp+fp)\n",
    "    # Negative predictive value\n",
    "    npv = tn/(tn+fn)\n",
    "    # Fall out or false positive rate\n",
    "    fpr = fp/(fp+tn)\n",
    "    # False negative rate\n",
    "    fnr = fn/(tp+fn)\n",
    "    # False discovery rate\n",
    "    fdr = fp/(tp+fp)\n",
    "    # Overall accuracy\n",
    "    acc = (tp+tn)/(tp+fp+fn+tn)\n",
    "\n",
    "    results_dict_4b[col]['FPR'] = round(fpr, 3)\n",
    "    results_dict_4b[col]['FNR'] = round(fnr, 3)\n",
    "    results_dict_4b[col]['PPV'] = round(ppv, 3) # precision\n",
    "    results_dict_4b[col]['TPR'] = round(tpr, 3) # recall \n",
    "    results_dict_4b[col]['Acc'] = round(acc, 3) # accuracy\n",
    "    results_dict_4b[col]['Negative Rate'] = round((tn+fn) / (tp+fp+fn+tn), 3)\n",
    "    results_dict_4b[col]['Positive Rate'] = round((tp+fp) / (tp+fp+fn+tn), 3)\n",
    "    results_dict_4b[col]['Group Population'] = (tp+fp+fn+tn)\n",
    "    results_dict_4b[col]['Group TN'] = tn\n",
    "    results_dict_4b[col]['Group TP'] = tp\n",
    "    results_dict_4b[col]['Group FN'] = fn\n",
    "    results_dict_4b[col]['Group FP'] = fp"
   ]
  },
  {
   "cell_type": "code",
   "execution_count": null,
   "id": "2fb68c6d-a521-4dbc-bc6a-e7a0917d679e",
   "metadata": {},
   "outputs": [],
   "source": [
    "metrics_df_4b = pd.DataFrame(results_dict_4b)\n",
    "metrics_df_4b"
   ]
  },
  {
   "cell_type": "code",
   "execution_count": null,
   "id": "e6375d1f-4cb0-44e7-971d-90d46cb18e29",
   "metadata": {},
   "outputs": [],
   "source": [
    "# calculate disparities\n",
    "# white\n",
    "\n",
    "disparity_white = pd.DataFrame({\n",
    "    'White': [1.0, 1.0, 1.0, 1.0, 1.0, 1.0],  # White/White = 1.0\n",
    "    'Black': round(metrics_df_4b['Black'] / metrics_df_4b['White'], 3),\n",
    "    'Other': round(metrics_df_4b['Other'] / metrics_df_4b['White'], 3)\n",
    "}, index=['FPR', 'FNR', 'PPV', 'TPR', 'Positive Rate', 'Negative Rate'])\n",
    "\n",
    "disparity_white"
   ]
  },
  {
   "cell_type": "code",
   "execution_count": null,
   "id": "f7a46ed7-ab85-4b48-8b73-701e2cf4a0a9",
   "metadata": {},
   "outputs": [],
   "source": [
    "# calculate disparities\n",
    "# black\n",
    "\n",
    "disparity_black = pd.DataFrame({\n",
    "    'White': round(metrics_df_4b['White'] / metrics_df_4b['Black'], 3),\n",
    "    'Black': [1.0, 1.0, 1.0, 1.0, 1.0, 1.0],\n",
    "    'Other': round(metrics_df_4b['Other'] / metrics_df_4b['Black'], 3)\n",
    "}, index=['FPR', 'FNR', 'PPV', 'TPR', 'Positive Rate', 'Negative Rate'])\n",
    "\n",
    "disparity_black"
   ]
  },
  {
   "cell_type": "code",
   "execution_count": null,
   "id": "ad19cee8-2c80-4b52-97d9-6d04d4c0d878",
   "metadata": {},
   "outputs": [],
   "source": [
    "# calculate disparities\n",
    "# others\n",
    "\n",
    "disparity_other = pd.DataFrame({\n",
    "    'White': round(metrics_df_4b['White'] / metrics_df_4b['Other'], 3),\n",
    "    'Black': round(metrics_df_4b['Black'] / metrics_df_4b['Other'], 3),\n",
    "    'Other': [1.0, 1.0, 1.0, 1.0, 1.0, 1.0]\n",
    "}, index=['FPR', 'FNR', 'PPV', 'TPR', 'Positive Rate', 'Negative Rate'])\n",
    "\n",
    "disparity_other"
   ]
  },
  {
   "cell_type": "code",
   "execution_count": null,
   "id": "f1ee8ee2-b9d1-4f3e-ac4b-ab7f131dae16",
   "metadata": {},
   "outputs": [],
   "source": [
    "metrics_df_4b.T[['FPR', 'FNR']].plot(kind='bar')"
   ]
  },
  {
   "cell_type": "code",
   "execution_count": null,
   "id": "0c7ba453-4fb5-4543-a574-91f5fd33f31b",
   "metadata": {},
   "outputs": [],
   "source": [
    "metrics_df_4b.T.reset_index()"
   ]
  }
 ],
 "metadata": {
  "kernelspec": {
   "display_name": "Python 3 (ipykernel)",
   "language": "python",
   "name": "python3"
  },
  "language_info": {
   "codemirror_mode": {
    "name": "ipython",
    "version": 3
   },
   "file_extension": ".py",
   "mimetype": "text/x-python",
   "name": "python",
   "nbconvert_exporter": "python",
   "pygments_lexer": "ipython3",
   "version": "3.11.0"
  }
 },
 "nbformat": 4,
 "nbformat_minor": 5
}
